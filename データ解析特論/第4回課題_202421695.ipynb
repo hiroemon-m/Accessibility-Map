{
 "cells": [
  {
   "cell_type": "markdown",
   "metadata": {},
   "source": [
    "### 学籍番号\n",
    "202421695\n",
    "\n",
    "### 氏名\n",
    "松本寛智\n"
   ]
  },
  {
   "cell_type": "code",
   "execution_count": 1,
   "metadata": {},
   "outputs": [
    {
     "name": "stdout",
     "output_type": "stream",
     "text": [
      "Requirement already satisfied: statsmodels in /Users/matsumoto-hirotomo/.pyenv/versions/3.11.4/lib/python3.11/site-packages (0.14.4)\n",
      "Requirement already satisfied: numpy<3,>=1.22.3 in /Users/matsumoto-hirotomo/.pyenv/versions/3.11.4/lib/python3.11/site-packages (from statsmodels) (1.25.2)\n",
      "Requirement already satisfied: scipy!=1.9.2,>=1.8 in /Users/matsumoto-hirotomo/.pyenv/versions/3.11.4/lib/python3.11/site-packages (from statsmodels) (1.11.4)\n",
      "Requirement already satisfied: pandas!=2.1.0,>=1.4 in /Users/matsumoto-hirotomo/.pyenv/versions/3.11.4/lib/python3.11/site-packages (from statsmodels) (2.2.2)\n",
      "Requirement already satisfied: patsy>=0.5.6 in /Users/matsumoto-hirotomo/.pyenv/versions/3.11.4/lib/python3.11/site-packages (from statsmodels) (0.5.6)\n",
      "Requirement already satisfied: packaging>=21.3 in /Users/matsumoto-hirotomo/.pyenv/versions/3.11.4/lib/python3.11/site-packages (from statsmodels) (23.1)\n",
      "Requirement already satisfied: python-dateutil>=2.8.2 in /Users/matsumoto-hirotomo/.pyenv/versions/3.11.4/lib/python3.11/site-packages (from pandas!=2.1.0,>=1.4->statsmodels) (2.9.0.post0)\n",
      "Requirement already satisfied: pytz>=2020.1 in /Users/matsumoto-hirotomo/.pyenv/versions/3.11.4/lib/python3.11/site-packages (from pandas!=2.1.0,>=1.4->statsmodels) (2024.1)\n",
      "Requirement already satisfied: tzdata>=2022.7 in /Users/matsumoto-hirotomo/.pyenv/versions/3.11.4/lib/python3.11/site-packages (from pandas!=2.1.0,>=1.4->statsmodels) (2024.1)\n",
      "Requirement already satisfied: six in /Users/matsumoto-hirotomo/.pyenv/versions/3.11.4/lib/python3.11/site-packages (from patsy>=0.5.6->statsmodels) (1.16.0)\n",
      "\n",
      "\u001b[1m[\u001b[0m\u001b[34;49mnotice\u001b[0m\u001b[1;39;49m]\u001b[0m\u001b[39;49m A new release of pip is available: \u001b[0m\u001b[31;49m24.0\u001b[0m\u001b[39;49m -> \u001b[0m\u001b[32;49m24.3.1\u001b[0m\n",
      "\u001b[1m[\u001b[0m\u001b[34;49mnotice\u001b[0m\u001b[1;39;49m]\u001b[0m\u001b[39;49m To update, run: \u001b[0m\u001b[32;49mpip install --upgrade pip\u001b[0m\n"
     ]
    }
   ],
   "source": [
    "!pip install statsmodels"
   ]
  },
  {
   "cell_type": "code",
   "execution_count": 2,
   "metadata": {},
   "outputs": [],
   "source": [
    "import numpy as np\n",
    "import pandas as pd\n",
    "import statsmodels.api as sm\n",
    "import statsmodels.formula.api as smf"
   ]
  },
  {
   "cell_type": "code",
   "execution_count": 3,
   "metadata": {},
   "outputs": [],
   "source": [
    "\n",
    "try:\n",
    "    red_table = pd.read_csv(\"winequality-red.table\")\n",
    "    white_table = pd.read_csv(\"winequality-white.table\")\n",
    "except:\n",
    "    url = \"https://archive.ics.uci.edu/ml/machine-learning-databases/wine-quality/winequality-red.csv\"\n",
    "    red_table = pd.read_table(url, delimiter=\";\")\n",
    "    red_table.to_csv(\"winequality-red.table\")\n",
    "    url = \"https://archive.ics.uci.edu/ml/machine-learning-databases/wine-quality/winequality-white.csv\"\n",
    "    white_table = pd.read_table(url, delimiter=\";\")\n",
    "    white_table.to_csv(\"winequality-white.table\")"
   ]
  },
  {
   "cell_type": "code",
   "execution_count": null,
   "metadata": {},
   "outputs": [],
   "source": [
    "red_table"
   ]
  },
  {
   "cell_type": "markdown",
   "metadata": {},
   "source": [
    "## 1.重回帰\n",
    "University of California Irvine では“Machine Learning Repository”という機械学習のベ ンチマークデータセットを公開している.そのサイトにある“Wine Quality Data Set”(類 似名のデータがあるので注意)を用いる."
   ]
  },
  {
   "cell_type": "markdown",
   "metadata": {},
   "source": [
    "\n",
    "## (1) \n",
    "白ワイン，赤ワインそれぞれについて，11 種類すべての特徴量を説明変数とした 1 次 式による品質指標の回帰分析を通じて，品質と関連のある特徴量を調査しなさい.結果 を元に白ワインと赤ワインではどのような相違があるか考察しなさい"
   ]
  },
  {
   "cell_type": "code",
   "execution_count": 9,
   "metadata": {},
   "outputs": [
    {
     "name": "stdout",
     "output_type": "stream",
     "text": [
      "                            OLS Regression Results                            \n",
      "==============================================================================\n",
      "Dep. Variable:                quality   R-squared:                       0.361\n",
      "Model:                            OLS   Adj. R-squared:                  0.356\n",
      "Method:                 Least Squares   F-statistic:                     81.35\n",
      "Date:                Sat, 09 Nov 2024   Prob (F-statistic):          1.79e-145\n",
      "Time:                        22:29:31   Log-Likelihood:                -1569.1\n",
      "No. Observations:                1599   AIC:                             3162.\n",
      "Df Residuals:                    1587   BIC:                             3227.\n",
      "Df Model:                          11                                         \n",
      "Covariance Type:            nonrobust                                         \n",
      "======================================================================================\n",
      "                         coef    std err          t      P>|t|      [0.025      0.975]\n",
      "--------------------------------------------------------------------------------------\n",
      "Intercept             21.9652     21.195      1.036      0.300     -19.607      63.538\n",
      "alcohol                0.2762      0.026     10.429      0.000       0.224       0.328\n",
      "chlorides             -1.8742      0.419     -4.470      0.000      -2.697      -1.052\n",
      "citricacid            -0.1826      0.147     -1.240      0.215      -0.471       0.106\n",
      "density              -17.8812     21.633     -0.827      0.409     -60.314      24.551\n",
      "fixedacidity           0.0250      0.026      0.963      0.336      -0.026       0.076\n",
      "freesulfurdioxide      0.0044      0.002      2.009      0.045       0.000       0.009\n",
      "pH                    -0.4137      0.192     -2.159      0.031      -0.789      -0.038\n",
      "residualsugar          0.0163      0.015      1.089      0.276      -0.013       0.046\n",
      "sulphates              0.9163      0.114      8.014      0.000       0.692       1.141\n",
      "totalsulfurdioxide    -0.0033      0.001     -4.480      0.000      -0.005      -0.002\n",
      "volatileacidity       -1.0836      0.121     -8.948      0.000      -1.321      -0.846\n",
      "==============================================================================\n",
      "Omnibus:                       27.376   Durbin-Watson:                   1.757\n",
      "Prob(Omnibus):                  0.000   Jarque-Bera (JB):               40.965\n",
      "Skew:                          -0.168   Prob(JB):                     1.27e-09\n",
      "Kurtosis:                       3.708   Cond. No.                     1.13e+05\n",
      "==============================================================================\n",
      "\n",
      "Notes:\n",
      "[1] Standard Errors assume that the covariance matrix of the errors is correctly specified.\n",
      "[2] The condition number is large, 1.13e+05. This might indicate that there are\n",
      "strong multicollinearity or other numerical problems.\n"
     ]
    }
   ],
   "source": [
    "red_table.columns = red_table.columns.str.replace(\" \",\"\")\n",
    "features = '+'.join(red_table.columns.difference(['quality']))\n",
    "formula = f'quality ~ {features}'\n",
    "results_red = smf.ols(formula=formula,data=red_table).fit()\n",
    "print(results_red.summary())"
   ]
  },
  {
   "cell_type": "markdown",
   "metadata": {},
   "source": []
  },
  {
   "cell_type": "markdown",
   "metadata": {},
   "source": [
    "## 赤ワイン\n",
    "どの特定の説明変数も目的変数へ影響を与える。  \n",
    "また、説明変数が目的変数へ影響を与える。\n"
   ]
  },
  {
   "cell_type": "code",
   "execution_count": 11,
   "metadata": {},
   "outputs": [
    {
     "name": "stdout",
     "output_type": "stream",
     "text": [
      "                            OLS Regression Results                            \n",
      "==============================================================================\n",
      "Dep. Variable:                quality   R-squared:                       0.282\n",
      "Model:                            OLS   Adj. R-squared:                  0.280\n",
      "Method:                 Least Squares   F-statistic:                     174.3\n",
      "Date:                Sat, 09 Nov 2024   Prob (F-statistic):               0.00\n",
      "Time:                        22:32:47   Log-Likelihood:                -5543.7\n",
      "No. Observations:                4898   AIC:                         1.111e+04\n",
      "Df Residuals:                    4886   BIC:                         1.119e+04\n",
      "Df Model:                          11                                         \n",
      "Covariance Type:            nonrobust                                         \n",
      "======================================================================================\n",
      "                         coef    std err          t      P>|t|      [0.025      0.975]\n",
      "--------------------------------------------------------------------------------------\n",
      "Intercept            150.1928     18.804      7.987      0.000     113.328     187.057\n",
      "alcohol                0.1935      0.024      7.988      0.000       0.146       0.241\n",
      "chlorides             -0.2473      0.547     -0.452      0.651      -1.319       0.824\n",
      "citricacid             0.0221      0.096      0.231      0.818      -0.166       0.210\n",
      "density             -150.2842     19.075     -7.879      0.000    -187.679    -112.890\n",
      "fixedacidity           0.0655      0.021      3.139      0.002       0.025       0.106\n",
      "freesulfurdioxide      0.0037      0.001      4.422      0.000       0.002       0.005\n",
      "pH                     0.6863      0.105      6.513      0.000       0.480       0.893\n",
      "residualsugar          0.0815      0.008     10.825      0.000       0.067       0.096\n",
      "sulphates              0.6315      0.100      6.291      0.000       0.435       0.828\n",
      "totalsulfurdioxide    -0.0003      0.000     -0.756      0.450      -0.001       0.000\n",
      "volatileacidity       -1.8632      0.114    -16.373      0.000      -2.086      -1.640\n",
      "==============================================================================\n",
      "Omnibus:                      114.161   Durbin-Watson:                   1.621\n",
      "Prob(Omnibus):                  0.000   Jarque-Bera (JB):              251.637\n",
      "Skew:                           0.073   Prob(JB):                     2.28e-55\n",
      "Kurtosis:                       4.101   Cond. No.                     3.74e+05\n",
      "==============================================================================\n",
      "\n",
      "Notes:\n",
      "[1] Standard Errors assume that the covariance matrix of the errors is correctly specified.\n",
      "[2] The condition number is large, 3.74e+05. This might indicate that there are\n",
      "strong multicollinearity or other numerical problems.\n"
     ]
    }
   ],
   "source": [
    "white_table.columns = white_table.columns.str.replace(\" \",\"\")\n",
    "features = '+'.join(white_table.columns.difference(['quality']))\n",
    "formula = f'quality ~ {features}'\n",
    "results_white = smf.ols(formula=formula,data=white_table).fit()\n",
    "print(results_white.summary())"
   ]
  },
  {
   "cell_type": "markdown",
   "metadata": {},
   "source": [
    "## 白ワイン\n",
    "説明変数(chlorides,citricacid)ha,目的変数へ影響を与えると断定する根拠が乏しい.  \n",
    "一方で、前述の説明変数でない説明変数は目的変数へ影響を与える。  \n",
    "説明変数が目的変数へ影響を与える。"
   ]
  },
  {
   "cell_type": "markdown",
   "metadata": {},
   "source": [
    "## 考察\n",
    "1. R-squared値の比較\n",
    "赤ワインのR-squaredは0.361で、回帰モデルが36.1%の品質のばらつきを説明している。  \n",
    "白ワインのR-squaredは0.282で、モデルが28.2%の品質のばらつきを説明している。  \n",
    "赤ワインの方が品質を説明する精度が高いため、赤ワインの品質を予測する際には、今回のモデルが白ワインよりも適している可能性がある。\n",
    "\n",
    "2. 有意性（P値）と各特徴量の影響  \n",
    "白ワインでは\"ph\"や\"density\"は99%の信頼区間でも棄却できる。一方で、赤ワインではそれらは99％の信頼区間では棄却できない。\n",
    "これは、赤ワインと白ワインで重視される味か違うからと考えられる。例えば、赤ワインは渋みを白ワインでは酸味が重視される。\n",
    "\n",
    "3. 説明変数の重要度(coef)\n",
    "赤ワインと白ワインでは、alcoholやsulphatesなどの影響の強さに差がある。特にdenstiyやchloridesの影響に関しては、赤ワインのほうが品質に与える影響が大きく、白ワインは他の要素（pHやdensity）の影響が顕著である。\n",
    "それぞれの成分が品質に与える影響の大きさや方向性に違いがあり、これはおそらく赤ワインと白ワインの製造過程や化学的特性の違いによると考えられる。\n"
   ]
  },
  {
   "cell_type": "markdown",
   "metadata": {},
   "source": [
    "## (2) \n",
    "特徴量どうしの積(クロスターム)も用いた 2 次式で回帰した場合には，回帰の質は改善するか評価しなさい."
   ]
  },
  {
   "cell_type": "code",
   "execution_count": 12,
   "metadata": {},
   "outputs": [
    {
     "name": "stdout",
     "output_type": "stream",
     "text": [
      "                            OLS Regression Results                            \n",
      "==============================================================================\n",
      "Dep. Variable:                quality   R-squared:                       0.426\n",
      "Model:                            OLS   Adj. R-squared:                  0.401\n",
      "Method:                 Least Squares   F-statistic:                     17.21\n",
      "Date:                Sat, 09 Nov 2024   Prob (F-statistic):          6.08e-140\n",
      "Time:                        23:02:01   Log-Likelihood:                -1483.1\n",
      "No. Observations:                1599   AIC:                             3100.\n",
      "Df Residuals:                    1532   BIC:                             3461.\n",
      "Df Model:                          66                                         \n",
      "Covariance Type:            nonrobust                                         \n",
      "========================================================================================================\n",
      "                                           coef    std err          t      P>|t|      [0.025      0.975]\n",
      "--------------------------------------------------------------------------------------------------------\n",
      "Intercept                              290.8895    543.032      0.536      0.592    -774.275    1356.054\n",
      "alcohol                                 -5.2984     12.417     -0.427      0.670     -29.654      19.057\n",
      "chlorides                            -1239.4036    620.041     -1.999      0.046   -2455.623     -23.184\n",
      "citricacid                            -141.2535    167.885     -0.841      0.400    -470.563     188.056\n",
      "density                               -284.8571    544.382     -0.523      0.601   -1352.671     782.957\n",
      "fixedacidity                            -8.8319     10.200     -0.866      0.387     -28.839      11.176\n",
      "freesulfurdioxide                       -8.4243      2.987     -2.821      0.005     -14.283      -2.566\n",
      "pH                                     -85.7929    148.168     -0.579      0.563    -376.427     204.841\n",
      "residualsugar                           11.1016     11.457      0.969      0.333     -11.371      33.574\n",
      "sulphates                              382.9251    162.054      2.363      0.018      65.054     700.796\n",
      "totalsulfurdioxide                       3.4032      1.027      3.313      0.001       1.388       5.418\n",
      "volatileacidity                        -22.2636    162.497     -0.137      0.891    -341.003     296.476\n",
      "fixedacidity:volatileacidity            -0.1872      0.185     -1.012      0.312      -0.550       0.176\n",
      "fixedacidity:residualsugar               0.0161      0.019      0.831      0.406      -0.022       0.054\n",
      "fixedacidity:freesulfurdioxide          -0.0075      0.003     -2.226      0.026      -0.014      -0.001\n",
      "fixedacidity:totalsulfurdioxide          0.0021      0.001      1.658      0.098      -0.000       0.005\n",
      "fixedacidity:pH                          0.3411      0.120      2.847      0.004       0.106       0.576\n",
      "fixedacidity:sulphates                   0.3405      0.172      1.979      0.048       0.003       0.678\n",
      "citricacid:fixedacidity                 -0.3062      0.182     -1.680      0.093      -0.664       0.051\n",
      "citricacid:volatileacidity               1.0906      0.786      1.388      0.165      -0.450       2.631\n",
      "citricacid:residualsugar                -0.0015      0.112     -0.014      0.989      -0.222       0.219\n",
      "citricacid:freesulfurdioxide             0.0084      0.020      0.413      0.679      -0.031       0.048\n",
      "citricacid:totalsulfurdioxide            0.0053      0.006      0.868      0.385      -0.007       0.017\n",
      "citricacid:density                     156.2713    169.882      0.920      0.358    -176.954     489.496\n",
      "citricacid:pH                           -5.8637      1.434     -4.088      0.000      -8.677      -3.050\n",
      "citricacid:sulphates                    -0.0803      1.146     -0.070      0.944      -2.329       2.168\n",
      "residualsugar:volatileacidity           -0.0436      0.133     -0.328      0.743      -0.305       0.217\n",
      "residualsugar:totalsulfurdioxide         0.0013      0.001      2.097      0.036    8.48e-05       0.003\n",
      "residualsugar:sulphates                  0.1403      0.158      0.887      0.375      -0.170       0.451\n",
      "chlorides:fixedacidity                  -1.8038      0.623     -2.895      0.004      -3.026      -0.582\n",
      "chlorides:volatileacidity                1.3183      3.027      0.436      0.663      -4.619       7.255\n",
      "chlorides:citricacid                     0.2935      2.987      0.098      0.922      -5.566       6.153\n",
      "chlorides:residualsugar                 -0.0168      0.549     -0.031      0.976      -1.094       1.061\n",
      "chlorides:freesulfurdioxide             -0.1215      0.073     -1.654      0.098      -0.266       0.023\n",
      "chlorides:totalsulfurdioxide            -0.0006      0.029     -0.019      0.985      -0.057       0.056\n",
      "chlorides:density                     1264.4846    626.715      2.018      0.044      35.174    2493.795\n",
      "chlorides:pH                            -3.7244      5.635     -0.661      0.509     -14.777       7.329\n",
      "chlorides:sulphates                     -1.9348      2.599     -0.744      0.457      -7.034       3.164\n",
      "freesulfurdioxide:volatileacidity       -0.0248      0.018     -1.413      0.158      -0.059       0.010\n",
      "freesulfurdioxide:residualsugar         -0.0013      0.002     -0.782      0.434      -0.005       0.002\n",
      "freesulfurdioxide:totalsulfurdioxide    -0.0001   5.38e-05     -2.037      0.042      -0.000   -4.08e-06\n",
      "freesulfurdioxide:pH                    -0.0343      0.023     -1.465      0.143      -0.080       0.012\n",
      "freesulfurdioxide:sulphates             -0.0441      0.017     -2.632      0.009      -0.077      -0.011\n",
      "totalsulfurdioxide:volatileacidity       0.0215      0.005      3.923      0.000       0.011       0.032\n",
      "density:fixedacidity                     8.3165     10.100      0.823      0.410     -11.495      28.128\n",
      "density:volatileacidity                 24.1030    165.078      0.146      0.884    -299.699     347.905\n",
      "density:residualsugar                  -11.3245     11.582     -0.978      0.328     -34.043      11.394\n",
      "density:freesulfurdioxide                8.5824      3.044      2.820      0.005       2.612      14.553\n",
      "density:totalsulfurdioxide              -3.4588      1.050     -3.293      0.001      -5.519      -1.399\n",
      "density:pH                              84.1297    148.219      0.568      0.570    -206.603     374.863\n",
      "density:sulphates                     -393.3041    164.066     -2.397      0.017    -715.123     -71.486\n",
      "pH:volatileacidity                      -1.7358      1.245     -1.394      0.164      -4.179       0.707\n",
      "pH:residualsugar                         0.0900      0.214      0.420      0.674      -0.330       0.510\n",
      "pH:totalsulfurdioxide                    0.0152      0.009      1.714      0.087      -0.002       0.033\n",
      "pH:sulphates                             2.6247      1.195      2.196      0.028       0.280       4.969\n",
      "sulphates:volatileacidity                0.1149      0.911      0.126      0.900      -1.673       1.903\n",
      "sulphates:totalsulfurdioxide             0.0059      0.005      1.098      0.272      -0.005       0.016\n",
      "alcohol:fixedacidity                    -0.0436      0.022     -1.992      0.047      -0.086      -0.001\n",
      "alcohol:volatileacidity                  0.3470      0.203      1.711      0.087      -0.051       0.745\n",
      "alcohol:citricacid                       0.5986      0.213      2.816      0.005       0.182       1.016\n",
      "alcohol:residualsugar                   -0.0317      0.021     -1.492      0.136      -0.073       0.010\n",
      "alcohol:chlorides                        0.6764      0.856      0.790      0.430      -1.004       2.356\n",
      "alcohol:freesulfurdioxide                0.0107      0.004      2.715      0.007       0.003       0.018\n",
      "alcohol:totalsulfurdioxide              -0.0044      0.001     -3.130      0.002      -0.007      -0.002\n",
      "alcohol:density                          5.9193     12.733      0.465      0.642     -19.057      30.895\n",
      "alcohol:pH                              -0.0589      0.202     -0.292      0.770      -0.455       0.337\n",
      "alcohol:sulphates                       -0.0861      0.200     -0.431      0.666      -0.478       0.306\n",
      "==============================================================================\n",
      "Omnibus:                        9.941   Durbin-Watson:                   1.781\n",
      "Prob(Omnibus):                  0.007   Jarque-Bera (JB):               13.454\n",
      "Skew:                          -0.035   Prob(JB):                      0.00120\n",
      "Kurtosis:                       3.444   Cond. No.                     1.03e+08\n",
      "==============================================================================\n",
      "\n",
      "Notes:\n",
      "[1] Standard Errors assume that the covariance matrix of the errors is correctly specified.\n",
      "[2] The condition number is large, 1.03e+08. This might indicate that there are\n",
      "strong multicollinearity or other numerical problems.\n"
     ]
    }
   ],
   "source": [
    "# クロスタームを組み込む\n",
    "interaction_terms = [f'{col1}:{col2}' for col1 in red_table.columns if col1 != 'quality' for col2 in red_table.columns if col2 != 'quality' and col1 < col2]\n",
    "features_with_interactions = '+'.join(red_table.columns.difference(['quality']) ) + '+' + '+'.join(interaction_terms)\n",
    "formula_with_interactions = f'quality ~ {features_with_interactions}'\n",
    "\n",
    "# モデルをフィット\n",
    "results_with_interactions = smf.ols(formula=formula_with_interactions, data=red_table).fit()\n",
    "\n",
    "# 結果を表示\n",
    "print(results_with_interactions.summary())\n"
   ]
  },
  {
   "cell_type": "code",
   "execution_count": 13,
   "metadata": {},
   "outputs": [
    {
     "name": "stdout",
     "output_type": "stream",
     "text": [
      "                            OLS Regression Results                            \n",
      "==============================================================================\n",
      "Dep. Variable:                quality   R-squared:                       0.355\n",
      "Model:                            OLS   Adj. R-squared:                  0.346\n",
      "Method:                 Least Squares   F-statistic:                     40.26\n",
      "Date:                Sat, 09 Nov 2024   Prob (F-statistic):               0.00\n",
      "Time:                        23:04:07   Log-Likelihood:                -5281.4\n",
      "No. Observations:                4898   AIC:                         1.070e+04\n",
      "Df Residuals:                    4831   BIC:                         1.113e+04\n",
      "Df Model:                          66                                         \n",
      "Covariance Type:            nonrobust                                         \n",
      "========================================================================================================\n",
      "                                           coef    std err          t      P>|t|      [0.025      0.975]\n",
      "--------------------------------------------------------------------------------------------------------\n",
      "Intercept                             -159.9656    350.586     -0.456      0.648    -847.274     527.343\n",
      "alcohol                                 22.5440      7.608      2.963      0.003       7.630      37.458\n",
      "chlorides                            -2999.1044   1237.342     -2.424      0.015   -5424.857    -573.352\n",
      "citricacid                            -182.5590    185.071     -0.986      0.324    -545.382     180.263\n",
      "density                                168.6427    351.264      0.480      0.631    -519.994     857.280\n",
      "fixedacidity                            23.2588     15.203      1.530      0.126      -6.546      53.064\n",
      "freesulfurdioxide                       -3.0881      1.613     -1.914      0.056      -6.250       0.074\n",
      "pH                                     146.0926     94.053      1.553      0.120     -38.295     330.480\n",
      "residualsugar                            1.2027      0.946      1.271      0.204      -0.653       3.058\n",
      "sulphates                              -13.5359    175.123     -0.077      0.938    -356.857     329.785\n",
      "totalsulfurdioxide                      -0.7726      0.607     -1.272      0.203      -1.964       0.418\n",
      "volatileacidity                       -469.5097    146.402     -3.207      0.001    -756.524    -182.495\n",
      "fixedacidity:volatileacidity            -0.4883      0.201     -2.432      0.015      -0.882      -0.095\n",
      "fixedacidity:residualsugar               0.0113      0.006      1.837      0.066      -0.001       0.023\n",
      "fixedacidity:freesulfurdioxide           0.0007      0.002      0.438      0.662      -0.003       0.004\n",
      "fixedacidity:totalsulfurdioxide         -0.0006      0.001     -0.895      0.371      -0.002       0.001\n",
      "fixedacidity:pH                          0.2749      0.089      3.104      0.002       0.101       0.449\n",
      "fixedacidity:sulphates                   0.2022      0.182      1.110      0.267      -0.155       0.559\n",
      "citricacid:fixedacidity                 -0.3459      0.186     -1.861      0.063      -0.710       0.018\n",
      "citricacid:volatileacidity               1.1267      0.832      1.354      0.176      -0.504       2.757\n",
      "citricacid:residualsugar                -0.0955      0.069     -1.384      0.166      -0.231       0.040\n",
      "citricacid:freesulfurdioxide             0.0070      0.007      0.989      0.323      -0.007       0.021\n",
      "citricacid:totalsulfurdioxide           -0.0028      0.003     -0.962      0.336      -0.008       0.003\n",
      "citricacid:density                     181.7295    187.362      0.970      0.332    -185.585     549.044\n",
      "citricacid:pH                            0.8733      0.959      0.911      0.362      -1.006       2.753\n",
      "citricacid:sulphates                    -0.7540      0.945     -0.798      0.425      -2.607       1.099\n",
      "residualsugar:volatileacidity           -0.1612      0.060     -2.666      0.008      -0.280      -0.043\n",
      "residualsugar:totalsulfurdioxide        -0.0002      0.000     -0.725      0.469      -0.001       0.000\n",
      "residualsugar:sulphates                 -0.0440      0.068     -0.647      0.518      -0.177       0.089\n",
      "chlorides:fixedacidity                  -1.9381      1.340     -1.446      0.148      -4.565       0.689\n",
      "chlorides:volatileacidity                0.2064      6.008      0.034      0.973     -11.573      11.985\n",
      "chlorides:citricacid                    -0.8101      3.833     -0.211      0.833      -8.325       6.705\n",
      "chlorides:residualsugar                 -1.4860      0.472     -3.149      0.002      -2.411      -0.561\n",
      "chlorides:freesulfurdioxide              0.0409      0.040      1.012      0.311      -0.038       0.120\n",
      "chlorides:totalsulfurdioxide            -0.0227      0.023     -0.975      0.330      -0.068       0.023\n",
      "chlorides:density                     3086.1409   1250.004      2.469      0.014     635.563    5536.718\n",
      "chlorides:pH                           -18.9289      6.265     -3.021      0.003     -31.212      -6.646\n",
      "chlorides:sulphates                    -14.0425      6.347     -2.212      0.027     -26.486      -1.599\n",
      "freesulfurdioxide:volatileacidity        0.0097      0.009      1.128      0.260      -0.007       0.027\n",
      "freesulfurdioxide:residualsugar         -0.0016      0.001     -2.532      0.011      -0.003      -0.000\n",
      "freesulfurdioxide:totalsulfurdioxide -9.951e-05   9.27e-06    -10.738      0.000      -0.000   -8.13e-05\n",
      "freesulfurdioxide:pH                     0.0034      0.008      0.405      0.686      -0.013       0.020\n",
      "freesulfurdioxide:sulphates              0.0295      0.007      4.040      0.000       0.015       0.044\n",
      "totalsulfurdioxide:volatileacidity       0.0010      0.004      0.291      0.771      -0.006       0.008\n",
      "density:fixedacidity                   -23.6563     15.149     -1.562      0.118     -53.354       6.042\n",
      "density:volatileacidity                460.3835    148.868      3.093      0.002     168.534     752.233\n",
      "density:residualsugar                   -0.9535      0.919     -1.038      0.299      -2.754       0.847\n",
      "density:freesulfurdioxide                3.0391      1.634      1.860      0.063      -0.164       6.243\n",
      "density:totalsulfurdioxide               0.8022      0.617      1.300      0.194      -0.408       2.012\n",
      "density:pH                            -147.8022     94.013     -1.572      0.116    -332.110      36.506\n",
      "density:sulphates                       11.8214    177.301      0.067      0.947    -335.769     359.412\n",
      "pH:volatileacidity                       0.7809      1.087      0.718      0.473      -1.351       2.912\n",
      "pH:residualsugar                        -0.0199      0.035     -0.569      0.569      -0.088       0.049\n",
      "pH:totalsulfurdioxide                   -0.0052      0.004     -1.353      0.176      -0.013       0.002\n",
      "pH:sulphates                             1.6412      0.919      1.785      0.074      -0.161       3.443\n",
      "sulphates:volatileacidity               -0.7225      1.032     -0.700      0.484      -2.746       1.301\n",
      "sulphates:totalsulfurdioxide            -0.0167      0.004     -4.624      0.000      -0.024      -0.010\n",
      "alcohol:fixedacidity                    -0.0238      0.026     -0.908      0.364      -0.075       0.028\n",
      "alcohol:volatileacidity                  1.1023      0.190      5.798      0.000       0.730       1.475\n",
      "alcohol:citricacid                       0.2195      0.236      0.931      0.352      -0.243       0.682\n",
      "alcohol:residualsugar                    0.0051      0.005      1.097      0.273      -0.004       0.014\n",
      "alcohol:chlorides                        1.8359      1.641      1.119      0.263      -1.381       5.053\n",
      "alcohol:freesulfurdioxide                0.0058      0.002      2.653      0.008       0.002       0.010\n",
      "alcohol:totalsulfurdioxide               0.0010      0.001      1.199      0.231      -0.001       0.003\n",
      "alcohol:density                        -23.1784      7.802     -2.971      0.003     -38.474      -7.882\n",
      "alcohol:pH                               0.0047      0.147      0.032      0.975      -0.284       0.293\n",
      "alcohol:sulphates                       -0.1583      0.220     -0.721      0.471      -0.589       0.272\n",
      "==============================================================================\n",
      "Omnibus:                       90.828   Durbin-Watson:                   1.650\n",
      "Prob(Omnibus):                  0.000   Jarque-Bera (JB):              180.314\n",
      "Skew:                           0.069   Prob(JB):                     7.00e-40\n",
      "Kurtosis:                       3.930   Cond. No.                     1.21e+09\n",
      "==============================================================================\n",
      "\n",
      "Notes:\n",
      "[1] Standard Errors assume that the covariance matrix of the errors is correctly specified.\n",
      "[2] The condition number is large, 1.21e+09. This might indicate that there are\n",
      "strong multicollinearity or other numerical problems.\n"
     ]
    }
   ],
   "source": [
    "# クロスタームを組み込む\n",
    "interaction_terms = [f'{col1}:{col2}' for col1 in white_table.columns if col1 != 'quality' for col2 in red_table.columns if col2 != 'quality' and col1 < col2]\n",
    "features_with_interactions = '+'.join(white_table.columns.difference(['quality']) ) + '+' + '+'.join(interaction_terms)\n",
    "formula_with_interactions = f'quality ~ {features_with_interactions}'\n",
    "\n",
    "# モデルをフィット\n",
    "results_with_interactions = smf.ols(formula=formula_with_interactions, data=white_table).fit()\n",
    "\n",
    "# 結果を表示\n",
    "print(results_with_interactions.summary())"
   ]
  },
  {
   "cell_type": "markdown",
   "metadata": {},
   "source": [
    "## 考察\n",
    "1. R-squared値の比較\n",
    "赤ワインのR-squaredは0.361→0.426でモデルは改善している。\n",
    "白ワインのR-squaredは0.282→0.355改善している。\n",
    "赤ワインの方が品質を説明する精度が高いため、赤ワインの品質を予測する際には、今回のモデルが白ワインよりも適している可能性がある。\n",
    "\n",
    "2. 有意性（P値）と各特徴量の影響  \n",
    "赤ワイン\n",
    "クロスタームを追加することで、追加前より多くの特定の説明変数が目的変数への影響を与えると断定する根拠が乏しくなった。\n",
    "\n",
    "白ワイン\n",
    "クロスタームを追加することで、特定の説明変数でも説明変数全体でも目的変数への影響を与えると断定する根拠が乏しいものが多くなった。  \n",
    "特定の説明変数が目的変数へ影響を与えると断定する根拠が乏しい.   \n",
    "説明変数が目的変数へ影響を与えると断定する根拠が乏しい.  "
   ]
  },
  {
   "cell_type": "markdown",
   "metadata": {},
   "source": [
    "## 2.分散分析\n",
    "演習動画でも用いた solder データセットについて，動画では使用していない要因「Solder」， 「PadType」，「Panel」について3元配置の分散分析を実施し，要因の失敗回数への影響を 考察せよ"
   ]
  },
  {
   "cell_type": "code",
   "execution_count": 18,
   "metadata": {},
   "outputs": [
    {
     "data": {
      "image/png": "[encoded data removed]",
      "text/plain": [
       "<Figure size 800x600 with 1 Axes>"
      ]
     },
     "metadata": {},
     "output_type": "display_data"
    }
   ],
   "source": [
    "import matplotlib.pyplot as plt\n",
    "data = sm.datasets.get_rdataset(\"solder\", \"survival\", cache=True).data\n",
    "data['lskips'] = np.log(1 + data['skips'])\n",
    "# ボックスプロット\n",
    "fig, ax = plt.subplots(figsize=(8, 6))\n",
    "fig = data.boxplot(\"lskips\", \"Solder\", ax=ax, grid=False)"
   ]
  },
  {
   "cell_type": "code",
   "execution_count": 15,
   "metadata": {},
   "outputs": [
    {
     "data": {
      "image/png": "[encoded data removed]",
      "text/plain": [
       "<Figure size 800x600 with 1 Axes>"
      ]
     },
     "metadata": {},
     "output_type": "display_data"
    }
   ],
   "source": [
    "fig, ax = plt.subplots(figsize=(8, 6))\n",
    "fig = data.boxplot(\"lskips\", \"PadType\", ax=ax, grid=False)"
   ]
  },
  {
   "cell_type": "code",
   "execution_count": 16,
   "metadata": {},
   "outputs": [
    {
     "data": {
      "image/png": "[encoded data removed]",
      "text/plain": [
       "<Figure size 800x600 with 1 Axes>"
      ]
     },
     "metadata": {},
     "output_type": "display_data"
    }
   ],
   "source": [
    "fig, ax = plt.subplots(figsize=(8, 6))\n",
    "fig = data.boxplot(\"lskips\", \"Panel\", ax=ax, grid=False)"
   ]
  },
  {
   "cell_type": "code",
   "execution_count": 19,
   "metadata": {},
   "outputs": [
    {
     "data": {
      "text/html": [
       "<div>\n",
       "<style scoped>\n",
       "    .dataframe tbody tr th:only-of-type {\n",
       "        vertical-align: middle;\n",
       "    }\n",
       "\n",
       "    .dataframe tbody tr th {\n",
       "        vertical-align: top;\n",
       "    }\n",
       "\n",
       "    .dataframe thead th {\n",
       "        text-align: right;\n",
       "    }\n",
       "</style>\n",
       "<table border=\"1\" class=\"dataframe\">\n",
       "  <thead>\n",
       "    <tr style=\"text-align: right;\">\n",
       "      <th></th>\n",
       "      <th>Opening</th>\n",
       "      <th>Solder</th>\n",
       "      <th>Mask</th>\n",
       "      <th>PadType</th>\n",
       "      <th>Panel</th>\n",
       "      <th>skips</th>\n",
       "      <th>lskips</th>\n",
       "    </tr>\n",
       "  </thead>\n",
       "  <tbody>\n",
       "    <tr>\n",
       "      <th>0</th>\n",
       "      <td>L</td>\n",
       "      <td>Thick</td>\n",
       "      <td>A1.5</td>\n",
       "      <td>W4</td>\n",
       "      <td>1</td>\n",
       "      <td>0</td>\n",
       "      <td>0.0</td>\n",
       "    </tr>\n",
       "    <tr>\n",
       "      <th>1</th>\n",
       "      <td>L</td>\n",
       "      <td>Thick</td>\n",
       "      <td>A1.5</td>\n",
       "      <td>W4</td>\n",
       "      <td>2</td>\n",
       "      <td>0</td>\n",
       "      <td>0.0</td>\n",
       "    </tr>\n",
       "    <tr>\n",
       "      <th>2</th>\n",
       "      <td>L</td>\n",
       "      <td>Thick</td>\n",
       "      <td>A1.5</td>\n",
       "      <td>W4</td>\n",
       "      <td>3</td>\n",
       "      <td>0</td>\n",
       "      <td>0.0</td>\n",
       "    </tr>\n",
       "    <tr>\n",
       "      <th>3</th>\n",
       "      <td>L</td>\n",
       "      <td>Thick</td>\n",
       "      <td>A1.5</td>\n",
       "      <td>D4</td>\n",
       "      <td>1</td>\n",
       "      <td>0</td>\n",
       "      <td>0.0</td>\n",
       "    </tr>\n",
       "    <tr>\n",
       "      <th>4</th>\n",
       "      <td>L</td>\n",
       "      <td>Thick</td>\n",
       "      <td>A1.5</td>\n",
       "      <td>D4</td>\n",
       "      <td>2</td>\n",
       "      <td>0</td>\n",
       "      <td>0.0</td>\n",
       "    </tr>\n",
       "  </tbody>\n",
       "</table>\n",
       "</div>"
      ],
      "text/plain": [
       "  Opening Solder  Mask PadType  Panel  skips  lskips\n",
       "0       L  Thick  A1.5      W4      1      0     0.0\n",
       "1       L  Thick  A1.5      W4      2      0     0.0\n",
       "2       L  Thick  A1.5      W4      3      0     0.0\n",
       "3       L  Thick  A1.5      D4      1      0     0.0\n",
       "4       L  Thick  A1.5      D4      2      0     0.0"
      ]
     },
     "execution_count": 19,
     "metadata": {},
     "output_type": "execute_result"
    }
   ],
   "source": [
    "data.head(5)"
   ]
  },
  {
   "cell_type": "code",
   "execution_count": 20,
   "metadata": {},
   "outputs": [
    {
     "data": {
      "text/html": [
       "<div>\n",
       "<style scoped>\n",
       "    .dataframe tbody tr th:only-of-type {\n",
       "        vertical-align: middle;\n",
       "    }\n",
       "\n",
       "    .dataframe tbody tr th {\n",
       "        vertical-align: top;\n",
       "    }\n",
       "\n",
       "    .dataframe thead th {\n",
       "        text-align: right;\n",
       "    }\n",
       "</style>\n",
       "<table border=\"1\" class=\"dataframe\">\n",
       "  <thead>\n",
       "    <tr style=\"text-align: right;\">\n",
       "      <th></th>\n",
       "      <th>df</th>\n",
       "      <th>sum_sq</th>\n",
       "      <th>mean_sq</th>\n",
       "      <th>F</th>\n",
       "      <th>PR(&gt;F)</th>\n",
       "    </tr>\n",
       "  </thead>\n",
       "  <tbody>\n",
       "    <tr>\n",
       "      <th>C(Solder)</th>\n",
       "      <td>1.0</td>\n",
       "      <td>137.213292</td>\n",
       "      <td>137.213292</td>\n",
       "      <td>136.686554</td>\n",
       "      <td>2.074928e-29</td>\n",
       "    </tr>\n",
       "    <tr>\n",
       "      <th>C(PadType)</th>\n",
       "      <td>9.0</td>\n",
       "      <td>72.850132</td>\n",
       "      <td>8.094459</td>\n",
       "      <td>8.063386</td>\n",
       "      <td>1.556097e-11</td>\n",
       "    </tr>\n",
       "    <tr>\n",
       "      <th>C(Solder):C(PadType)</th>\n",
       "      <td>9.0</td>\n",
       "      <td>12.517154</td>\n",
       "      <td>1.390795</td>\n",
       "      <td>1.385456</td>\n",
       "      <td>1.901469e-01</td>\n",
       "    </tr>\n",
       "    <tr>\n",
       "      <th>Panel</th>\n",
       "      <td>1.0</td>\n",
       "      <td>8.394015</td>\n",
       "      <td>8.394015</td>\n",
       "      <td>8.361792</td>\n",
       "      <td>3.928503e-03</td>\n",
       "    </tr>\n",
       "    <tr>\n",
       "      <th>C(Solder):Panel</th>\n",
       "      <td>1.0</td>\n",
       "      <td>5.782327</td>\n",
       "      <td>5.782327</td>\n",
       "      <td>5.760130</td>\n",
       "      <td>1.660556e-02</td>\n",
       "    </tr>\n",
       "    <tr>\n",
       "      <th>C(PadType):Panel</th>\n",
       "      <td>9.0</td>\n",
       "      <td>4.364981</td>\n",
       "      <td>0.484998</td>\n",
       "      <td>0.483136</td>\n",
       "      <td>8.865417e-01</td>\n",
       "    </tr>\n",
       "    <tr>\n",
       "      <th>C(Solder):C(PadType):Panel</th>\n",
       "      <td>9.0</td>\n",
       "      <td>1.822856</td>\n",
       "      <td>0.202540</td>\n",
       "      <td>0.201762</td>\n",
       "      <td>9.939883e-01</td>\n",
       "    </tr>\n",
       "    <tr>\n",
       "      <th>Residual</th>\n",
       "      <td>860.0</td>\n",
       "      <td>863.314115</td>\n",
       "      <td>1.003854</td>\n",
       "      <td>NaN</td>\n",
       "      <td>NaN</td>\n",
       "    </tr>\n",
       "  </tbody>\n",
       "</table>\n",
       "</div>"
      ],
      "text/plain": [
       "                               df      sum_sq     mean_sq           F  \\\n",
       "C(Solder)                     1.0  137.213292  137.213292  136.686554   \n",
       "C(PadType)                    9.0   72.850132    8.094459    8.063386   \n",
       "C(Solder):C(PadType)          9.0   12.517154    1.390795    1.385456   \n",
       "Panel                         1.0    8.394015    8.394015    8.361792   \n",
       "C(Solder):Panel               1.0    5.782327    5.782327    5.760130   \n",
       "C(PadType):Panel              9.0    4.364981    0.484998    0.483136   \n",
       "C(Solder):C(PadType):Panel    9.0    1.822856    0.202540    0.201762   \n",
       "Residual                    860.0  863.314115    1.003854         NaN   \n",
       "\n",
       "                                  PR(>F)  \n",
       "C(Solder)                   2.074928e-29  \n",
       "C(PadType)                  1.556097e-11  \n",
       "C(Solder):C(PadType)        1.901469e-01  \n",
       "Panel                       3.928503e-03  \n",
       "C(Solder):Panel             1.660556e-02  \n",
       "C(PadType):Panel            8.865417e-01  \n",
       "C(Solder):C(PadType):Panel  9.939883e-01  \n",
       "Residual                             NaN  "
      ]
     },
     "execution_count": 20,
     "metadata": {},
     "output_type": "execute_result"
    }
   ],
   "source": [
    "data_lm = smf.ols(\"np.log(1+skips) ~ C(Solder) * C(PadType) * Panel\", data=data).fit()\n",
    "sm.stats.anova_lm(data_lm)"
   ]
  },
  {
   "cell_type": "markdown",
   "metadata": {},
   "source": [
    "## 考察\n",
    " \n",
    "特定の目的変数(\"Solder,PadType\",\"PadType,Panel\")が説明変数へ影響を与えると断定する根拠が乏しい.  \n",
    "目的変数が説明変数へ影響を与えると断定する根拠が乏しい.  \n"
   ]
  },
  {
   "cell_type": "markdown",
   "metadata": {},
   "source": []
  }
 ],
 "metadata": {
  "kernelspec": {
   "display_name": "Python 3",
   "language": "python",
   "name": "python3"
  },
  "language_info": {
   "codemirror_mode": {
    "name": "ipython",
    "version": 3
   },
   "file_extension": ".py",
   "mimetype": "text/x-python",
   "name": "python",
   "nbconvert_exporter": "python",
   "pygments_lexer": "ipython3",
   "version": "3.11.4"
  }
 },
 "nbformat": 4,
 "nbformat_minor": 2
}
