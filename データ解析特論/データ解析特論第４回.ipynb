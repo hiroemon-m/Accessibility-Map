{
 "cells": [
  {
   "cell_type": "markdown",
   "id": "7001309a",
   "metadata": {},
   "source": [
    "# データ解析特論第４回\n",
    "\n",
    "線形モデルの回帰分析や分散分析を行う場合，statsmodels パッケージが便利．"
   ]
  },
  {
   "cell_type": "markdown",
   "id": "5521859a",
   "metadata": {},
   "source": [
    "## 線形単回帰"
   ]
  },
  {
   "cell_type": "code",
   "execution_count": 1,
   "id": "c35c9ba2",
   "metadata": {},
   "outputs": [
    {
     "name": "stdout",
     "output_type": "stream",
     "text": [
      "Requirement already satisfied: statsmodels in /Users/matsumoto-hirotomo/.pyenv/versions/3.11.4/lib/python3.11/site-packages (0.14.4)\n",
      "Requirement already satisfied: numpy<3,>=1.22.3 in /Users/matsumoto-hirotomo/.pyenv/versions/3.11.4/lib/python3.11/site-packages (from statsmodels) (1.25.2)\n",
      "Requirement already satisfied: scipy!=1.9.2,>=1.8 in /Users/matsumoto-hirotomo/.pyenv/versions/3.11.4/lib/python3.11/site-packages (from statsmodels) (1.11.4)\n",
      "Requirement already satisfied: pandas!=2.1.0,>=1.4 in /Users/matsumoto-hirotomo/.pyenv/versions/3.11.4/lib/python3.11/site-packages (from statsmodels) (2.2.2)\n",
      "Requirement already satisfied: patsy>=0.5.6 in /Users/matsumoto-hirotomo/.pyenv/versions/3.11.4/lib/python3.11/site-packages (from statsmodels) (0.5.6)\n",
      "Requirement already satisfied: packaging>=21.3 in /Users/matsumoto-hirotomo/.pyenv/versions/3.11.4/lib/python3.11/site-packages (from statsmodels) (23.1)\n",
      "Requirement already satisfied: python-dateutil>=2.8.2 in /Users/matsumoto-hirotomo/.pyenv/versions/3.11.4/lib/python3.11/site-packages (from pandas!=2.1.0,>=1.4->statsmodels) (2.9.0.post0)\n",
      "Requirement already satisfied: pytz>=2020.1 in /Users/matsumoto-hirotomo/.pyenv/versions/3.11.4/lib/python3.11/site-packages (from pandas!=2.1.0,>=1.4->statsmodels) (2024.1)\n",
      "Requirement already satisfied: tzdata>=2022.7 in /Users/matsumoto-hirotomo/.pyenv/versions/3.11.4/lib/python3.11/site-packages (from pandas!=2.1.0,>=1.4->statsmodels) (2024.1)\n",
      "Requirement already satisfied: six in /Users/matsumoto-hirotomo/.pyenv/versions/3.11.4/lib/python3.11/site-packages (from patsy>=0.5.6->statsmodels) (1.16.0)\n",
      "\n",
      "\u001b[1m[\u001b[0m\u001b[34;49mnotice\u001b[0m\u001b[1;39;49m]\u001b[0m\u001b[39;49m A new release of pip is available: \u001b[0m\u001b[31;49m24.0\u001b[0m\u001b[39;49m -> \u001b[0m\u001b[32;49m24.3.1\u001b[0m\n",
      "\u001b[1m[\u001b[0m\u001b[34;49mnotice\u001b[0m\u001b[1;39;49m]\u001b[0m\u001b[39;49m To update, run: \u001b[0m\u001b[32;49mpip install --upgrade pip\u001b[0m\n"
     ]
    }
   ],
   "source": [
    "!pip install statsmodels"
   ]
  },
  {
   "cell_type": "code",
   "execution_count": 2,
   "id": "e22ac1ff",
   "metadata": {},
   "outputs": [],
   "source": [
    "import numpy as np\n",
    "import pandas as pd\n",
    "import statsmodels.api as sm\n",
    "import statsmodels.formula.api as smf\n",
    "# データ(中村「多次元データ解析法」共立 より)\n",
    "x = np.array([0.91, 0.83, 0.8, 0.83, 0.86, 0.85, 0.84, 0.81, 0.79, 0.89, 0.85, 0.83])\n",
    "y = np.array([7.2, 4.1, 2.9, 3.8, 5.7, 5.1, 4.4, 3.6, 3.1, 6.4, 4.7, 4.2])\n",
    "df = pd.DataFrame({'y': y, 'x': x})  # データフレームを作成"
   ]
  },
  {
   "cell_type": "code",
   "execution_count": 3,
   "id": "a768a136",
   "metadata": {},
   "outputs": [
    {
     "data": {
      "text/html": [
       "<div>\n",
       "<style scoped>\n",
       "    .dataframe tbody tr th:only-of-type {\n",
       "        vertical-align: middle;\n",
       "    }\n",
       "\n",
       "    .dataframe tbody tr th {\n",
       "        vertical-align: top;\n",
       "    }\n",
       "\n",
       "    .dataframe thead th {\n",
       "        text-align: right;\n",
       "    }\n",
       "</style>\n",
       "<table border=\"1\" class=\"dataframe\">\n",
       "  <thead>\n",
       "    <tr style=\"text-align: right;\">\n",
       "      <th></th>\n",
       "      <th>y</th>\n",
       "      <th>x</th>\n",
       "    </tr>\n",
       "  </thead>\n",
       "  <tbody>\n",
       "    <tr>\n",
       "      <th>0</th>\n",
       "      <td>7.2</td>\n",
       "      <td>0.91</td>\n",
       "    </tr>\n",
       "    <tr>\n",
       "      <th>1</th>\n",
       "      <td>4.1</td>\n",
       "      <td>0.83</td>\n",
       "    </tr>\n",
       "    <tr>\n",
       "      <th>2</th>\n",
       "      <td>2.9</td>\n",
       "      <td>0.80</td>\n",
       "    </tr>\n",
       "    <tr>\n",
       "      <th>3</th>\n",
       "      <td>3.8</td>\n",
       "      <td>0.83</td>\n",
       "    </tr>\n",
       "    <tr>\n",
       "      <th>4</th>\n",
       "      <td>5.7</td>\n",
       "      <td>0.86</td>\n",
       "    </tr>\n",
       "    <tr>\n",
       "      <th>5</th>\n",
       "      <td>5.1</td>\n",
       "      <td>0.85</td>\n",
       "    </tr>\n",
       "    <tr>\n",
       "      <th>6</th>\n",
       "      <td>4.4</td>\n",
       "      <td>0.84</td>\n",
       "    </tr>\n",
       "    <tr>\n",
       "      <th>7</th>\n",
       "      <td>3.6</td>\n",
       "      <td>0.81</td>\n",
       "    </tr>\n",
       "    <tr>\n",
       "      <th>8</th>\n",
       "      <td>3.1</td>\n",
       "      <td>0.79</td>\n",
       "    </tr>\n",
       "    <tr>\n",
       "      <th>9</th>\n",
       "      <td>6.4</td>\n",
       "      <td>0.89</td>\n",
       "    </tr>\n",
       "    <tr>\n",
       "      <th>10</th>\n",
       "      <td>4.7</td>\n",
       "      <td>0.85</td>\n",
       "    </tr>\n",
       "    <tr>\n",
       "      <th>11</th>\n",
       "      <td>4.2</td>\n",
       "      <td>0.83</td>\n",
       "    </tr>\n",
       "  </tbody>\n",
       "</table>\n",
       "</div>"
      ],
      "text/plain": [
       "      y     x\n",
       "0   7.2  0.91\n",
       "1   4.1  0.83\n",
       "2   2.9  0.80\n",
       "3   3.8  0.83\n",
       "4   5.7  0.86\n",
       "5   5.1  0.85\n",
       "6   4.4  0.84\n",
       "7   3.6  0.81\n",
       "8   3.1  0.79\n",
       "9   6.4  0.89\n",
       "10  4.7  0.85\n",
       "11  4.2  0.83"
      ]
     },
     "execution_count": 3,
     "metadata": {},
     "output_type": "execute_result"
    }
   ],
   "source": [
    "df"
   ]
  },
  {
   "cell_type": "code",
   "execution_count": 4,
   "id": "8837e65c",
   "metadata": {},
   "outputs": [
    {
     "name": "stdout",
     "output_type": "stream",
     "text": [
      "                            OLS Regression Results                            \n",
      "==============================================================================\n",
      "Dep. Variable:                      y   R-squared:                       0.966\n",
      "Model:                            OLS   Adj. R-squared:                  0.963\n",
      "Method:                 Least Squares   F-statistic:                     284.0\n",
      "Date:                Sat, 09 Nov 2024   Prob (F-statistic):           1.14e-08\n",
      "Time:                        21:52:18   Log-Likelihood:                0.59704\n",
      "No. Observations:                  12   AIC:                             2.806\n",
      "Df Residuals:                      10   BIC:                             3.776\n",
      "Df Model:                           1                                         \n",
      "Covariance Type:            nonrobust                                         \n",
      "==============================================================================\n",
      "                 coef    std err          t      P>|t|      [0.025      0.975]\n",
      "------------------------------------------------------------------------------\n",
      "Intercept    -26.3975      1.841    -14.340      0.000     -30.499     -22.296\n",
      "x             36.8652      2.188     16.852      0.000      31.991      41.739\n",
      "==============================================================================\n",
      "Omnibus:                        0.189   Durbin-Watson:                   2.003\n",
      "Prob(Omnibus):                  0.910   Jarque-Bera (JB):                0.360\n",
      "Skew:                           0.199   Prob(JB):                        0.835\n",
      "Kurtosis:                       2.251   Cond. No.                         51.3\n",
      "==============================================================================\n",
      "\n",
      "Notes:\n",
      "[1] Standard Errors assume that the covariance matrix of the errors is correctly specified.\n"
     ]
    },
    {
     "name": "stderr",
     "output_type": "stream",
     "text": [
      "/Users/matsumoto-hirotomo/.pyenv/versions/3.11.4/lib/python3.11/site-packages/scipy/stats/_stats_py.py:1806: UserWarning: kurtosistest only valid for n>=20 ... continuing anyway, n=12\n",
      "  warnings.warn(\"kurtosistest only valid for n>=20 ... continuing \"\n"
     ]
    }
   ],
   "source": [
    "results = smf.ols(\"y ~ x\", data=df).fit()\n",
    "#目的変数 ~ 説明変数\n",
    "print(results.summary())"
   ]
  },
  {
   "cell_type": "code",
   "execution_count": null,
   "id": "968354c5",
   "metadata": {},
   "outputs": [],
   "source": []
  },
  {
   "cell_type": "markdown",
   "id": "9b3e0957",
   "metadata": {},
   "source": [
    "求めた戦型回帰の可視化\n",
    "paramsが係数"
   ]
  },
  {
   "cell_type": "code",
   "execution_count": 5,
   "id": "2800824e",
   "metadata": {},
   "outputs": [
    {
     "name": "stderr",
     "output_type": "stream",
     "text": [
      "/var/folders/r2/q8_hcldj4f33gjgpcmt2s_yw0000gn/T/ipykernel_86869/775816406.py:5: FutureWarning: Series.__getitem__ treating keys as positions is deprecated. In a future version, integer keys will always be treated as labels (consistent with DataFrame behavior). To access a value by position, use `ser.iloc[pos]`\n",
      "  y_array = results.params[0] + results.params[1] * x_array\n"
     ]
    },
    {
     "data": {
      "text/plain": [
       "Text(0.5, 0, 'x')"
      ]
     },
     "execution_count": 5,
     "metadata": {},
     "output_type": "execute_result"
    },
    {
     "data": {
      "image/png": "[encoded data removed]",
      "text/plain": [
       "<Figure size 640x480 with 1 Axes>"
      ]
     },
     "metadata": {},
     "output_type": "display_data"
    }
   ],
   "source": [
    "import matplotlib.pyplot as plt\n",
    "fig = plt.figure()\n",
    "plt.scatter(x, y, label=\"data\")\n",
    "x_array = np.linspace(np.min(x), np.max(x), num=100)\n",
    "y_array = results.params[0] + results.params[1] * x_array\n",
    "plt.plot(x_array, y_array, color='orange', label=\"regression\")\n",
    "plt.legend()\n",
    "plt.ylabel('y')\n",
    "plt.xlabel('x')"
   ]
  },
  {
   "cell_type": "code",
   "execution_count": null,
   "id": "ea22e2a2",
   "metadata": {},
   "outputs": [],
   "source": []
  },
  {
   "cell_type": "code",
   "execution_count": null,
   "id": "47f0b5cc",
   "metadata": {},
   "outputs": [],
   "source": []
  },
  {
   "cell_type": "markdown",
   "id": "27fb2616",
   "metadata": {},
   "source": [
    "## ３次式回帰\n",
    "一次回帰と同じ．説明変数として，$x^2$や$x^3$を追加してやればよい．"
   ]
  },
  {
   "cell_type": "code",
   "execution_count": 6,
   "id": "8b82ada6",
   "metadata": {},
   "outputs": [
    {
     "name": "stderr",
     "output_type": "stream",
     "text": [
      "/Users/matsumoto-hirotomo/.pyenv/versions/3.11.4/lib/python3.11/site-packages/scipy/stats/_stats_py.py:1806: UserWarning: kurtosistest only valid for n>=20 ... continuing anyway, n=12\n",
      "  warnings.warn(\"kurtosistest only valid for n>=20 ... continuing \"\n"
     ]
    },
    {
     "name": "stdout",
     "output_type": "stream",
     "text": [
      "                            OLS Regression Results                            \n",
      "==============================================================================\n",
      "Dep. Variable:                      y   R-squared:                       0.976\n",
      "Model:                            OLS   Adj. R-squared:                  0.967\n",
      "Method:                 Least Squares   F-statistic:                     109.5\n",
      "Date:                Sat, 09 Nov 2024   Prob (F-statistic):           7.78e-07\n",
      "Time:                        21:52:19   Log-Likelihood:                 2.7465\n",
      "No. Observations:                  12   AIC:                             2.507\n",
      "Df Residuals:                       8   BIC:                             4.447\n",
      "Df Model:                           3                                         \n",
      "Covariance Type:            nonrobust                                         \n",
      "==============================================================================\n",
      "                 coef    std err          t      P>|t|      [0.025      0.975]\n",
      "------------------------------------------------------------------------------\n",
      "Intercept   1837.8528   1163.368      1.580      0.153    -844.878    4520.583\n",
      "x          -6527.6837   4122.635     -1.583      0.152    -1.6e+04    2979.129\n",
      "xx          7695.4001   4864.276      1.582      0.152   -3521.641    1.89e+04\n",
      "xxx        -3003.1609   1910.902     -1.572      0.155   -7409.709    1403.388\n",
      "==============================================================================\n",
      "Omnibus:                        2.291   Durbin-Watson:                   1.891\n",
      "Prob(Omnibus):                  0.318   Jarque-Bera (JB):                0.933\n",
      "Skew:                          -0.057   Prob(JB):                        0.627\n",
      "Kurtosis:                       1.639   Cond. No.                     1.59e+05\n",
      "==============================================================================\n",
      "\n",
      "Notes:\n",
      "[1] Standard Errors assume that the covariance matrix of the errors is correctly specified.\n",
      "[2] The condition number is large, 1.59e+05. This might indicate that there are\n",
      "strong multicollinearity or other numerical problems.\n"
     ]
    }
   ],
   "source": [
    "df = pd.DataFrame({'y': y, 'x': x, 'xx': x**2, 'xxx': x**3})\n",
    "results = smf.ols('y ~ x + xx + xxx', data=df).fit()\n",
    "print(results.summary())"
   ]
  },
  {
   "cell_type": "code",
   "execution_count": 7,
   "id": "0e75f0e8",
   "metadata": {},
   "outputs": [
    {
     "name": "stderr",
     "output_type": "stream",
     "text": [
      "/var/folders/r2/q8_hcldj4f33gjgpcmt2s_yw0000gn/T/ipykernel_86869/3792703096.py:5: FutureWarning: Series.__getitem__ treating keys as positions is deprecated. In a future version, integer keys will always be treated as labels (consistent with DataFrame behavior). To access a value by position, use `ser.iloc[pos]`\n",
      "  y_array = results.params[0] + results.params[1] * x_array + results.params[2] * x_array**2 + results.params[3] * x_array**3\n"
     ]
    },
    {
     "data": {
      "text/plain": [
       "<matplotlib.legend.Legend at 0x2832a5590>"
      ]
     },
     "execution_count": 7,
     "metadata": {},
     "output_type": "execute_result"
    },
    {
     "data": {
      "image/png": "[encoded data removed]",
      "text/plain": [
       "<Figure size 640x480 with 1 Axes>"
      ]
     },
     "metadata": {},
     "output_type": "display_data"
    }
   ],
   "source": [
    "import matplotlib.pyplot as plt\n",
    "fig = plt.figure()\n",
    "plt.scatter(x, y, label=\"data\")\n",
    "x_array = np.linspace(np.min(x), np.max(x), num=100)\n",
    "y_array = results.params[0] + results.params[1] * x_array + results.params[2] * x_array**2 + results.params[3] * x_array**3\n",
    "plt.plot(x_array, y_array, color='orange', label=\"regression\")\n",
    "plt.legend()"
   ]
  },
  {
   "cell_type": "code",
   "execution_count": null,
   "id": "4be9d484",
   "metadata": {},
   "outputs": [],
   "source": []
  },
  {
   "cell_type": "code",
   "execution_count": null,
   "id": "8bad2138",
   "metadata": {},
   "outputs": [],
   "source": []
  },
  {
   "cell_type": "markdown",
   "id": "20f6adcc",
   "metadata": {},
   "source": [
    "## 一元配置の分散分析"
   ]
  },
  {
   "cell_type": "code",
   "execution_count": 8,
   "id": "dd66da8d",
   "metadata": {},
   "outputs": [
    {
     "data": {
      "image/png": "[encoded data removed]",
      "text/plain": [
       "<Figure size 800x600 with 1 Axes>"
      ]
     },
     "metadata": {},
     "output_type": "display_data"
    }
   ],
   "source": [
    "import pandas as pd\n",
    "import matplotlib.pyplot as plt\n",
    "import statsmodels.api as sm\n",
    "# データのダウンロード＆読み込み\n",
    "# データの説明: https://vincentarelbundock.github.io/Rdatasets/doc/survival/solder.html\n",
    "data = sm.datasets.get_rdataset(\"solder\", \"survival\", cache=True).data\n",
    "data['lskips'] = np.log(1 + data['skips'])\n",
    "# ボックスプロット\n",
    "fig, ax = plt.subplots(figsize=(8, 6))\n",
    "fig = data.boxplot(\"lskips\", \"Opening\", ax=ax, grid=False)"
   ]
  },
  {
   "cell_type": "code",
   "execution_count": 9,
   "id": "a56b4b47",
   "metadata": {
    "scrolled": true
   },
   "outputs": [
    {
     "data": {
      "text/html": [
       "<div>\n",
       "<style scoped>\n",
       "    .dataframe tbody tr th:only-of-type {\n",
       "        vertical-align: middle;\n",
       "    }\n",
       "\n",
       "    .dataframe tbody tr th {\n",
       "        vertical-align: top;\n",
       "    }\n",
       "\n",
       "    .dataframe thead th {\n",
       "        text-align: right;\n",
       "    }\n",
       "</style>\n",
       "<table border=\"1\" class=\"dataframe\">\n",
       "  <thead>\n",
       "    <tr style=\"text-align: right;\">\n",
       "      <th></th>\n",
       "      <th>Opening</th>\n",
       "      <th>Solder</th>\n",
       "      <th>Mask</th>\n",
       "      <th>PadType</th>\n",
       "      <th>Panel</th>\n",
       "      <th>skips</th>\n",
       "      <th>lskips</th>\n",
       "    </tr>\n",
       "  </thead>\n",
       "  <tbody>\n",
       "    <tr>\n",
       "      <th>0</th>\n",
       "      <td>L</td>\n",
       "      <td>Thick</td>\n",
       "      <td>A1.5</td>\n",
       "      <td>W4</td>\n",
       "      <td>1</td>\n",
       "      <td>0</td>\n",
       "      <td>0.000000</td>\n",
       "    </tr>\n",
       "    <tr>\n",
       "      <th>1</th>\n",
       "      <td>L</td>\n",
       "      <td>Thick</td>\n",
       "      <td>A1.5</td>\n",
       "      <td>W4</td>\n",
       "      <td>2</td>\n",
       "      <td>0</td>\n",
       "      <td>0.000000</td>\n",
       "    </tr>\n",
       "    <tr>\n",
       "      <th>2</th>\n",
       "      <td>L</td>\n",
       "      <td>Thick</td>\n",
       "      <td>A1.5</td>\n",
       "      <td>W4</td>\n",
       "      <td>3</td>\n",
       "      <td>0</td>\n",
       "      <td>0.000000</td>\n",
       "    </tr>\n",
       "    <tr>\n",
       "      <th>3</th>\n",
       "      <td>L</td>\n",
       "      <td>Thick</td>\n",
       "      <td>A1.5</td>\n",
       "      <td>D4</td>\n",
       "      <td>1</td>\n",
       "      <td>0</td>\n",
       "      <td>0.000000</td>\n",
       "    </tr>\n",
       "    <tr>\n",
       "      <th>4</th>\n",
       "      <td>L</td>\n",
       "      <td>Thick</td>\n",
       "      <td>A1.5</td>\n",
       "      <td>D4</td>\n",
       "      <td>2</td>\n",
       "      <td>0</td>\n",
       "      <td>0.000000</td>\n",
       "    </tr>\n",
       "    <tr>\n",
       "      <th>...</th>\n",
       "      <td>...</td>\n",
       "      <td>...</td>\n",
       "      <td>...</td>\n",
       "      <td>...</td>\n",
       "      <td>...</td>\n",
       "      <td>...</td>\n",
       "      <td>...</td>\n",
       "    </tr>\n",
       "    <tr>\n",
       "      <th>895</th>\n",
       "      <td>S</td>\n",
       "      <td>Thin</td>\n",
       "      <td>B6</td>\n",
       "      <td>W9</td>\n",
       "      <td>2</td>\n",
       "      <td>21</td>\n",
       "      <td>3.091042</td>\n",
       "    </tr>\n",
       "    <tr>\n",
       "      <th>896</th>\n",
       "      <td>S</td>\n",
       "      <td>Thin</td>\n",
       "      <td>B6</td>\n",
       "      <td>W9</td>\n",
       "      <td>3</td>\n",
       "      <td>15</td>\n",
       "      <td>2.772589</td>\n",
       "    </tr>\n",
       "    <tr>\n",
       "      <th>897</th>\n",
       "      <td>S</td>\n",
       "      <td>Thin</td>\n",
       "      <td>B6</td>\n",
       "      <td>L9</td>\n",
       "      <td>1</td>\n",
       "      <td>11</td>\n",
       "      <td>2.484907</td>\n",
       "    </tr>\n",
       "    <tr>\n",
       "      <th>898</th>\n",
       "      <td>S</td>\n",
       "      <td>Thin</td>\n",
       "      <td>B6</td>\n",
       "      <td>L9</td>\n",
       "      <td>2</td>\n",
       "      <td>33</td>\n",
       "      <td>3.526361</td>\n",
       "    </tr>\n",
       "    <tr>\n",
       "      <th>899</th>\n",
       "      <td>S</td>\n",
       "      <td>Thin</td>\n",
       "      <td>B6</td>\n",
       "      <td>L9</td>\n",
       "      <td>3</td>\n",
       "      <td>15</td>\n",
       "      <td>2.772589</td>\n",
       "    </tr>\n",
       "  </tbody>\n",
       "</table>\n",
       "<p>900 rows × 7 columns</p>\n",
       "</div>"
      ],
      "text/plain": [
       "    Opening Solder  Mask PadType  Panel  skips    lskips\n",
       "0         L  Thick  A1.5      W4      1      0  0.000000\n",
       "1         L  Thick  A1.5      W4      2      0  0.000000\n",
       "2         L  Thick  A1.5      W4      3      0  0.000000\n",
       "3         L  Thick  A1.5      D4      1      0  0.000000\n",
       "4         L  Thick  A1.5      D4      2      0  0.000000\n",
       "..      ...    ...   ...     ...    ...    ...       ...\n",
       "895       S   Thin    B6      W9      2     21  3.091042\n",
       "896       S   Thin    B6      W9      3     15  2.772589\n",
       "897       S   Thin    B6      L9      1     11  2.484907\n",
       "898       S   Thin    B6      L9      2     33  3.526361\n",
       "899       S   Thin    B6      L9      3     15  2.772589\n",
       "\n",
       "[900 rows x 7 columns]"
      ]
     },
     "execution_count": 9,
     "metadata": {},
     "output_type": "execute_result"
    }
   ],
   "source": [
    "data"
   ]
  },
  {
   "cell_type": "code",
   "execution_count": null,
   "id": "8a6dd9d3",
   "metadata": {},
   "outputs": [],
   "source": [
    "import statsmodels.formula.api as smf\n",
    "data_lm = smf.ols('np.log(1+skips) ~ C(Opening)', data = data).fit()\n",
    "#olsには関数も渡せる。Cはカテゴリー変数をone-hotに"
   ]
  },
  {
   "cell_type": "code",
   "execution_count": 11,
   "id": "4391ef86",
   "metadata": {},
   "outputs": [
    {
     "name": "stdout",
     "output_type": "stream",
     "text": [
      "     Intercept  C(Opening)[T.M]  C(Opening)[T.S]\n",
      "0          1.0              0.0              0.0\n",
      "1          1.0              0.0              0.0\n",
      "2          1.0              0.0              0.0\n",
      "3          1.0              0.0              0.0\n",
      "4          1.0              0.0              0.0\n",
      "..         ...              ...              ...\n",
      "895        1.0              0.0              1.0\n",
      "896        1.0              0.0              1.0\n",
      "897        1.0              0.0              1.0\n",
      "898        1.0              0.0              1.0\n",
      "899        1.0              0.0              1.0\n",
      "\n",
      "[900 rows x 3 columns]\n"
     ]
    }
   ],
   "source": [
    "print(data_lm.model.data.orig_exog)"
   ]
  },
  {
   "cell_type": "code",
   "execution_count": 12,
   "id": "1d81513e",
   "metadata": {},
   "outputs": [
    {
     "name": "stdout",
     "output_type": "stream",
     "text": [
      "                            OLS Regression Results                            \n",
      "==============================================================================\n",
      "Dep. Variable:      np.log(1 + skips)   R-squared:                       0.310\n",
      "Model:                            OLS   Adj. R-squared:                  0.308\n",
      "Method:                 Least Squares   F-statistic:                     201.1\n",
      "Date:                Sat, 09 Nov 2024   Prob (F-statistic):           7.00e-73\n",
      "Time:                        21:52:19   Log-Likelihood:                -1203.2\n",
      "No. Observations:                 900   AIC:                             2412.\n",
      "Df Residuals:                     897   BIC:                             2427.\n",
      "Df Model:                           2                                         \n",
      "Covariance Type:            nonrobust                                         \n",
      "===================================================================================\n",
      "                      coef    std err          t      P>|t|      [0.025      0.975]\n",
      "-----------------------------------------------------------------------------------\n",
      "Intercept           0.5730      0.053     10.755      0.000       0.468       0.678\n",
      "C(Opening)[T.M]     0.4970      0.075      6.596      0.000       0.349       0.645\n",
      "C(Opening)[T.S]     1.4842      0.075     19.700      0.000       1.336       1.632\n",
      "==============================================================================\n",
      "Omnibus:                       24.448   Durbin-Watson:                   0.554\n",
      "Prob(Omnibus):                  0.000   Jarque-Bera (JB):               15.086\n",
      "Skew:                           0.167   Prob(JB):                     0.000530\n",
      "Kurtosis:                       2.461   Cond. No.                         3.73\n",
      "==============================================================================\n",
      "\n",
      "Notes:\n",
      "[1] Standard Errors assume that the covariance matrix of the errors is correctly specified.\n"
     ]
    }
   ],
   "source": [
    "print(data_lm.summary())"
   ]
  },
  {
   "cell_type": "code",
   "execution_count": null,
   "id": "2749a18a",
   "metadata": {},
   "outputs": [
    {
     "data": {
      "text/html": [
       "<div>\n",
       "<style scoped>\n",
       "    .dataframe tbody tr th:only-of-type {\n",
       "        vertical-align: middle;\n",
       "    }\n",
       "\n",
       "    .dataframe tbody tr th {\n",
       "        vertical-align: top;\n",
       "    }\n",
       "\n",
       "    .dataframe thead th {\n",
       "        text-align: right;\n",
       "    }\n",
       "</style>\n",
       "<table border=\"1\" class=\"dataframe\">\n",
       "  <thead>\n",
       "    <tr style=\"text-align: right;\">\n",
       "      <th></th>\n",
       "      <th>df</th>\n",
       "      <th>sum_sq</th>\n",
       "      <th>mean_sq</th>\n",
       "      <th>F</th>\n",
       "      <th>PR(&gt;F)</th>\n",
       "    </tr>\n",
       "  </thead>\n",
       "  <tbody>\n",
       "    <tr>\n",
       "      <th>C(Opening)</th>\n",
       "      <td>2.0</td>\n",
       "      <td>342.465429</td>\n",
       "      <td>171.232715</td>\n",
       "      <td>201.095919</td>\n",
       "      <td>6.997500e-73</td>\n",
       "    </tr>\n",
       "    <tr>\n",
       "      <th>Residual</th>\n",
       "      <td>897.0</td>\n",
       "      <td>763.793444</td>\n",
       "      <td>0.851498</td>\n",
       "      <td>NaN</td>\n",
       "      <td>NaN</td>\n",
       "    </tr>\n",
       "  </tbody>\n",
       "</table>\n",
       "</div>"
      ],
      "text/plain": [
       "               df      sum_sq     mean_sq           F        PR(>F)\n",
       "C(Opening)    2.0  342.465429  171.232715  201.095919  6.997500e-73\n",
       "Residual    897.0  763.793444    0.851498         NaN           NaN"
      ]
     },
     "execution_count": 13,
     "metadata": {},
     "output_type": "execute_result"
    }
   ],
   "source": [
    "sm.stats.anova_lm(data_lm)\n",
    "#線形回帰の結果をanova_lmに渡すと分散分析を行う\n",
    "#今回は尤度水準95で棄却できる"
   ]
  },
  {
   "cell_type": "code",
   "execution_count": null,
   "id": "02f402b1",
   "metadata": {},
   "outputs": [],
   "source": []
  },
  {
   "cell_type": "markdown",
   "id": "008cf6d7",
   "metadata": {},
   "source": [
    "## 二元配置の分散分析"
   ]
  },
  {
   "cell_type": "code",
   "execution_count": 14,
   "id": "b4e0cdab",
   "metadata": {},
   "outputs": [
    {
     "data": {
      "image/png": "[encoded data removed]",
      "text/plain": [
       "<Figure size 1000x600 with 1 Axes>"
      ]
     },
     "metadata": {},
     "output_type": "display_data"
    }
   ],
   "source": [
    "import pandas as pd\n",
    "import matplotlib.pyplot as plt\n",
    "# データのダウンロード＆読み込み\n",
    "data = sm.datasets.get_rdataset(\"solder\", \"survival\", cache=True).data\n",
    "data['lskips'] = np.log(1 + data['skips'])\n",
    "# ボックスプロット\n",
    "fig, ax = plt.subplots(figsize=(10, 6))\n",
    "fig = data.boxplot(\"lskips\", [\"Opening\", \"Mask\"], ax=ax, grid=False)"
   ]
  },
  {
   "cell_type": "code",
   "execution_count": 15,
   "id": "11b0100b",
   "metadata": {
    "scrolled": true
   },
   "outputs": [
    {
     "data": {
      "text/html": [
       "<div>\n",
       "<style scoped>\n",
       "    .dataframe tbody tr th:only-of-type {\n",
       "        vertical-align: middle;\n",
       "    }\n",
       "\n",
       "    .dataframe tbody tr th {\n",
       "        vertical-align: top;\n",
       "    }\n",
       "\n",
       "    .dataframe thead th {\n",
       "        text-align: right;\n",
       "    }\n",
       "</style>\n",
       "<table border=\"1\" class=\"dataframe\">\n",
       "  <thead>\n",
       "    <tr style=\"text-align: right;\">\n",
       "      <th></th>\n",
       "      <th>Opening</th>\n",
       "      <th>Solder</th>\n",
       "      <th>Mask</th>\n",
       "      <th>PadType</th>\n",
       "      <th>Panel</th>\n",
       "      <th>skips</th>\n",
       "      <th>lskips</th>\n",
       "    </tr>\n",
       "  </thead>\n",
       "  <tbody>\n",
       "    <tr>\n",
       "      <th>0</th>\n",
       "      <td>L</td>\n",
       "      <td>Thick</td>\n",
       "      <td>A1.5</td>\n",
       "      <td>W4</td>\n",
       "      <td>1</td>\n",
       "      <td>0</td>\n",
       "      <td>0.000000</td>\n",
       "    </tr>\n",
       "    <tr>\n",
       "      <th>1</th>\n",
       "      <td>L</td>\n",
       "      <td>Thick</td>\n",
       "      <td>A1.5</td>\n",
       "      <td>W4</td>\n",
       "      <td>2</td>\n",
       "      <td>0</td>\n",
       "      <td>0.000000</td>\n",
       "    </tr>\n",
       "    <tr>\n",
       "      <th>2</th>\n",
       "      <td>L</td>\n",
       "      <td>Thick</td>\n",
       "      <td>A1.5</td>\n",
       "      <td>W4</td>\n",
       "      <td>3</td>\n",
       "      <td>0</td>\n",
       "      <td>0.000000</td>\n",
       "    </tr>\n",
       "    <tr>\n",
       "      <th>3</th>\n",
       "      <td>L</td>\n",
       "      <td>Thick</td>\n",
       "      <td>A1.5</td>\n",
       "      <td>D4</td>\n",
       "      <td>1</td>\n",
       "      <td>0</td>\n",
       "      <td>0.000000</td>\n",
       "    </tr>\n",
       "    <tr>\n",
       "      <th>4</th>\n",
       "      <td>L</td>\n",
       "      <td>Thick</td>\n",
       "      <td>A1.5</td>\n",
       "      <td>D4</td>\n",
       "      <td>2</td>\n",
       "      <td>0</td>\n",
       "      <td>0.000000</td>\n",
       "    </tr>\n",
       "    <tr>\n",
       "      <th>...</th>\n",
       "      <td>...</td>\n",
       "      <td>...</td>\n",
       "      <td>...</td>\n",
       "      <td>...</td>\n",
       "      <td>...</td>\n",
       "      <td>...</td>\n",
       "      <td>...</td>\n",
       "    </tr>\n",
       "    <tr>\n",
       "      <th>895</th>\n",
       "      <td>S</td>\n",
       "      <td>Thin</td>\n",
       "      <td>B6</td>\n",
       "      <td>W9</td>\n",
       "      <td>2</td>\n",
       "      <td>21</td>\n",
       "      <td>3.091042</td>\n",
       "    </tr>\n",
       "    <tr>\n",
       "      <th>896</th>\n",
       "      <td>S</td>\n",
       "      <td>Thin</td>\n",
       "      <td>B6</td>\n",
       "      <td>W9</td>\n",
       "      <td>3</td>\n",
       "      <td>15</td>\n",
       "      <td>2.772589</td>\n",
       "    </tr>\n",
       "    <tr>\n",
       "      <th>897</th>\n",
       "      <td>S</td>\n",
       "      <td>Thin</td>\n",
       "      <td>B6</td>\n",
       "      <td>L9</td>\n",
       "      <td>1</td>\n",
       "      <td>11</td>\n",
       "      <td>2.484907</td>\n",
       "    </tr>\n",
       "    <tr>\n",
       "      <th>898</th>\n",
       "      <td>S</td>\n",
       "      <td>Thin</td>\n",
       "      <td>B6</td>\n",
       "      <td>L9</td>\n",
       "      <td>2</td>\n",
       "      <td>33</td>\n",
       "      <td>3.526361</td>\n",
       "    </tr>\n",
       "    <tr>\n",
       "      <th>899</th>\n",
       "      <td>S</td>\n",
       "      <td>Thin</td>\n",
       "      <td>B6</td>\n",
       "      <td>L9</td>\n",
       "      <td>3</td>\n",
       "      <td>15</td>\n",
       "      <td>2.772589</td>\n",
       "    </tr>\n",
       "  </tbody>\n",
       "</table>\n",
       "<p>900 rows × 7 columns</p>\n",
       "</div>"
      ],
      "text/plain": [
       "    Opening Solder  Mask PadType  Panel  skips    lskips\n",
       "0         L  Thick  A1.5      W4      1      0  0.000000\n",
       "1         L  Thick  A1.5      W4      2      0  0.000000\n",
       "2         L  Thick  A1.5      W4      3      0  0.000000\n",
       "3         L  Thick  A1.5      D4      1      0  0.000000\n",
       "4         L  Thick  A1.5      D4      2      0  0.000000\n",
       "..      ...    ...   ...     ...    ...    ...       ...\n",
       "895       S   Thin    B6      W9      2     21  3.091042\n",
       "896       S   Thin    B6      W9      3     15  2.772589\n",
       "897       S   Thin    B6      L9      1     11  2.484907\n",
       "898       S   Thin    B6      L9      2     33  3.526361\n",
       "899       S   Thin    B6      L9      3     15  2.772589\n",
       "\n",
       "[900 rows x 7 columns]"
      ]
     },
     "execution_count": 15,
     "metadata": {},
     "output_type": "execute_result"
    }
   ],
   "source": [
    "data"
   ]
  },
  {
   "cell_type": "code",
   "execution_count": 16,
   "id": "4d5746b3",
   "metadata": {},
   "outputs": [
    {
     "data": {
      "text/html": [
       "<div>\n",
       "<style scoped>\n",
       "    .dataframe tbody tr th:only-of-type {\n",
       "        vertical-align: middle;\n",
       "    }\n",
       "\n",
       "    .dataframe tbody tr th {\n",
       "        vertical-align: top;\n",
       "    }\n",
       "\n",
       "    .dataframe thead th {\n",
       "        text-align: right;\n",
       "    }\n",
       "</style>\n",
       "<table border=\"1\" class=\"dataframe\">\n",
       "  <thead>\n",
       "    <tr style=\"text-align: right;\">\n",
       "      <th></th>\n",
       "      <th>df</th>\n",
       "      <th>sum_sq</th>\n",
       "      <th>mean_sq</th>\n",
       "      <th>F</th>\n",
       "      <th>PR(&gt;F)</th>\n",
       "    </tr>\n",
       "  </thead>\n",
       "  <tbody>\n",
       "    <tr>\n",
       "      <th>C(Opening)</th>\n",
       "      <td>2.0</td>\n",
       "      <td>342.465429</td>\n",
       "      <td>171.232715</td>\n",
       "      <td>338.547830</td>\n",
       "      <td>5.991520e-110</td>\n",
       "    </tr>\n",
       "    <tr>\n",
       "      <th>C(Mask)</th>\n",
       "      <td>4.0</td>\n",
       "      <td>285.632373</td>\n",
       "      <td>71.408093</td>\n",
       "      <td>141.182455</td>\n",
       "      <td>2.341378e-93</td>\n",
       "    </tr>\n",
       "    <tr>\n",
       "      <th>C(Opening):C(Mask)</th>\n",
       "      <td>8.0</td>\n",
       "      <td>30.156566</td>\n",
       "      <td>3.769571</td>\n",
       "      <td>7.452898</td>\n",
       "      <td>1.203127e-09</td>\n",
       "    </tr>\n",
       "    <tr>\n",
       "      <th>Residual</th>\n",
       "      <td>886.0</td>\n",
       "      <td>448.126296</td>\n",
       "      <td>0.505786</td>\n",
       "      <td>NaN</td>\n",
       "      <td>NaN</td>\n",
       "    </tr>\n",
       "  </tbody>\n",
       "</table>\n",
       "</div>"
      ],
      "text/plain": [
       "                       df      sum_sq     mean_sq           F         PR(>F)\n",
       "C(Opening)            2.0  342.465429  171.232715  338.547830  5.991520e-110\n",
       "C(Mask)               4.0  285.632373   71.408093  141.182455   2.341378e-93\n",
       "C(Opening):C(Mask)    8.0   30.156566    3.769571    7.452898   1.203127e-09\n",
       "Residual            886.0  448.126296    0.505786         NaN            NaN"
      ]
     },
     "execution_count": 16,
     "metadata": {},
     "output_type": "execute_result"
    }
   ],
   "source": [
    "import statsmodels.api as sm\n",
    "import statsmodels.formula.api as smf\n",
    "data_lm = smf.ols(\"np.log(1+skips) ~ C(Opening) * C(Mask)\", data=data).fit()\n",
    "sm.stats.anova_lm(data_lm)"
   ]
  },
  {
   "cell_type": "code",
   "execution_count": null,
   "id": "505e7d2c",
   "metadata": {},
   "outputs": [],
   "source": []
  }
 ],
 "metadata": {
  "kernelspec": {
   "display_name": "Python 3",
   "language": "python",
   "name": "python3"
  },
  "language_info": {
   "codemirror_mode": {
    "name": "ipython",
    "version": 3
   },
   "file_extension": ".py",
   "mimetype": "text/x-python",
   "name": "python",
   "nbconvert_exporter": "python",
   "pygments_lexer": "ipython3",
   "version": "3.11.4"
  }
 },
 "nbformat": 4,
 "nbformat_minor": 5
}
